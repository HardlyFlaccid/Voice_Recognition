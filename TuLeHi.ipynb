{
  "nbformat": 4,
  "nbformat_minor": 0,
  "metadata": {
    "colab": {
      "name": "TuLeHi.ipynb",
      "provenance": []
    },
    "kernelspec": {
      "name": "python3",
      "display_name": "Python 3"
    },
    "accelerator": "GPU"
  },
  "cells": [
    {
      "cell_type": "code",
      "metadata": {
        "id": "vkXZd_jamIeV",
        "outputId": "d62ac9ff-a5c9-4f47-c53e-ddc3fe2ffdcb",
        "colab": {
          "base_uri": "https://localhost:8080/",
          "height": 34
        }
      },
      "source": [
        "from google.colab import drive\n",
        "drive.mount('/content/gdrive')"
      ],
      "execution_count": null,
      "outputs": [
        {
          "output_type": "stream",
          "text": [
            "Drive already mounted at /content/gdrive; to attempt to forcibly remount, call drive.mount(\"/content/gdrive\", force_remount=True).\n"
          ],
          "name": "stdout"
        }
      ]
    },
    {
      "cell_type": "code",
      "metadata": {
        "id": "CSVsREDKd4FM"
      },
      "source": [
        "%tensorflow_version 2.x\n",
        "\n",
        "import keras\n",
        "from keras.models import Sequential\n",
        "from keras.layers import Dense, Activation, Flatten, Conv2D, MaxPooling2D\n",
        "from os import listdir\n",
        "from os.path import isdir, join\n",
        "from tensorflow.keras import layers, models\n",
        "import numpy as np\n",
        "import matplotlib.pyplot as plt\n",
        "from tensorflow import lite\n",
        "import cv2"
      ],
      "execution_count": null,
      "outputs": []
    },
    {
      "cell_type": "code",
      "metadata": {
        "id": "QdwhYuVrW3Cm",
        "outputId": "68517eeb-52b4-45fe-9859-22bb173c163f",
        "colab": {
          "base_uri": "https://localhost:8080/",
          "height": 54
        }
      },
      "source": [
        "dataset_path = '/content/gdrive/My Drive/TuLeHi/Voice Data'\n",
        "all_targets = all_targets = [name for name in listdir(dataset_path) if isdir(join(dataset_path, name))]\n",
        "all_targets.remove('_background_noise_')\n",
        "print(all_targets)"
      ],
      "execution_count": null,
      "outputs": [
        {
          "output_type": "stream",
          "text": [
            "['stop', 'tree', 'visual', 'yes', 'zero', 'three', 'two', 'up', 'wow', 'right', 'no', 'seven', 'six', 'off', 'sheila', 'on', 'marvin', 'one', 'nine', 'happy', 'forward', 'go', 'house', 'eight', 'follow', 'four', 'learn', 'left', 'five', 'bed', 'down', 'dog', 'bird', 'cat', 'backward']\n"
          ],
          "name": "stdout"
        }
      ]
    },
    {
      "cell_type": "code",
      "metadata": {
        "id": "6aaVIb2FxKj7"
      },
      "source": [
        "feature_sets_path = '/content/gdrive/My Drive/TuLeHi'\n",
        "feature_sets_filename = 'trimmed_targets_mfcc_sets.npz'\n",
        "model_filename = '/content/gdrive/My Drive/TuLeHi/wake_word_stop_model.h5'\n",
        "word_filename = '/content/gdrive/My Drive/TuLeHi/stop.jpg'\n",
        "wake_word = 'stop'"
      ],
      "execution_count": null,
      "outputs": []
    },
    {
      "cell_type": "code",
      "metadata": {
        "id": "yprT29wJxONU",
        "outputId": "fe68c9c8-256a-421b-8de0-e865506b4713",
        "colab": {
          "base_uri": "https://localhost:8080/",
          "height": 34
        }
      },
      "source": [
        "feature_sets = np.load(join(feature_sets_path, feature_sets_filename))\n",
        "print(feature_sets.files)"
      ],
      "execution_count": null,
      "outputs": [
        {
          "output_type": "stream",
          "text": [
            "['x_train', 'y_train', 'x_val', 'y_val', 'x_test', 'y_test']\n"
          ],
          "name": "stdout"
        }
      ]
    },
    {
      "cell_type": "code",
      "metadata": {
        "id": "Iy5a_ndgy2F5"
      },
      "source": [
        "x_train = feature_sets['x_train']\n",
        "y_train = feature_sets['y_train']\n",
        "x_val = feature_sets['x_val']\n",
        "y_val = feature_sets['y_val']\n",
        "x_test = feature_sets['x_test']\n",
        "y_test = feature_sets['y_test']"
      ],
      "execution_count": null,
      "outputs": []
    },
    {
      "cell_type": "code",
      "metadata": {
        "id": "1Z0QgmFHy4N-",
        "outputId": "3cb584bb-688d-4b9f-d843-04632bef8bfe",
        "colab": {
          "base_uri": "https://localhost:8080/",
          "height": 105
        }
      },
      "source": [
        "print(x_train.shape)\n",
        "print(x_val.shape)\n",
        "print(x_test.shape)\n",
        "print([*y_val])"
      ],
      "execution_count": null,
      "outputs": [
        {
          "output_type": "stream",
          "text": [
            "(4476, 16, 16)\n",
            "(550, 16, 16)\n",
            "(561, 16, 16)\n",
            "[17.0, 11.0, 11.0, 11.0, 12.0, 11.0, 19.0, 11.0, 11.0, 11.0, 14.0, 11.0, 11.0, 11.0, 11.0, 11.0, 11.0, 11.0, 0.0, 7.0, 2.0, 4.0, 11.0, 11.0, 11.0, 11.0, 11.0, 11.0, 1.0, 15.0, 11.0, 11.0, 11.0, 19.0, 11.0, 19.0, 11.0, 11.0, 1.0, 11.0, 14.0, 11.0, 11.0, 0.0, 11.0, 11.0, 11.0, 11.0, 14.0, 14.0, 19.0, 11.0, 11.0, 11.0, 11.0, 18.0, 5.0, 3.0, 11.0, 11.0, 11.0, 11.0, 11.0, 15.0, 11.0, 11.0, 19.0, 11.0, 11.0, 11.0, 11.0, 11.0, 11.0, 12.0, 14.0, 4.0, 11.0, 11.0, 11.0, 11.0, 11.0, 11.0, 15.0, 19.0, 1.0, 19.0, 11.0, 11.0, 14.0, 18.0, 11.0, 11.0, 4.0, 11.0, 14.0, 11.0, 11.0, 11.0, 14.0, 0.0, 11.0, 11.0, 18.0, 18.0, 11.0, 11.0, 11.0, 11.0, 11.0, 11.0, 11.0, 11.0, 11.0, 11.0, 11.0, 15.0, 11.0, 4.0, 11.0, 11.0, 15.0, 11.0, 11.0, 0.0, 11.0, 10.0, 11.0, 16.0, 11.0, 11.0, 11.0, 10.0, 11.0, 11.0, 11.0, 11.0, 11.0, 19.0, 5.0, 19.0, 11.0, 11.0, 11.0, 14.0, 11.0, 11.0, 11.0, 15.0, 11.0, 17.0, 5.0, 11.0, 11.0, 15.0, 11.0, 11.0, 13.0, 5.0, 11.0, 11.0, 11.0, 11.0, 19.0, 11.0, 19.0, 11.0, 11.0, 7.0, 11.0, 19.0, 14.0, 11.0, 11.0, 14.0, 5.0, 19.0, 11.0, 11.0, 11.0, 11.0, 11.0, 11.0, 14.0, 16.0, 11.0, 18.0, 14.0, 11.0, 11.0, 18.0, 8.0, 18.0, 11.0, 1.0, 11.0, 15.0, 11.0, 11.0, 11.0, 11.0, 14.0, 11.0, 11.0, 17.0, 11.0, 11.0, 11.0, 15.0, 11.0, 11.0, 15.0, 11.0, 19.0, 19.0, 11.0, 15.0, 19.0, 11.0, 19.0, 11.0, 11.0, 11.0, 11.0, 11.0, 4.0, 11.0, 15.0, 11.0, 19.0, 11.0, 11.0, 14.0, 11.0, 14.0, 11.0, 14.0, 11.0, 11.0, 11.0, 11.0, 11.0, 11.0, 11.0, 11.0, 11.0, 8.0, 11.0, 11.0, 11.0, 11.0, 16.0, 11.0, 11.0, 11.0, 19.0, 18.0, 11.0, 11.0, 11.0, 5.0, 7.0, 11.0, 11.0, 11.0, 11.0, 11.0, 11.0, 5.0, 11.0, 15.0, 11.0, 11.0, 11.0, 11.0, 5.0, 5.0, 11.0, 11.0, 11.0, 19.0, 1.0, 15.0, 11.0, 11.0, 11.0, 11.0, 11.0, 11.0, 11.0, 14.0, 11.0, 17.0, 11.0, 11.0, 11.0, 11.0, 11.0, 18.0, 12.0, 11.0, 11.0, 11.0, 11.0, 11.0, 3.0, 17.0, 9.0, 11.0, 11.0, 11.0, 11.0, 11.0, 11.0, 10.0, 19.0, 5.0, 11.0, 17.0, 11.0, 11.0, 18.0, 11.0, 11.0, 13.0, 11.0, 5.0, 11.0, 11.0, 12.0, 11.0, 11.0, 15.0, 11.0, 11.0, 14.0, 11.0, 11.0, 15.0, 11.0, 18.0, 11.0, 11.0, 11.0, 11.0, 11.0, 15.0, 17.0, 11.0, 11.0, 11.0, 11.0, 11.0, 11.0, 19.0, 14.0, 11.0, 11.0, 11.0, 11.0, 1.0, 11.0, 10.0, 12.0, 11.0, 19.0, 0.0, 14.0, 8.0, 14.0, 8.0, 11.0, 11.0, 11.0, 9.0, 11.0, 11.0, 11.0, 11.0, 11.0, 11.0, 11.0, 11.0, 11.0, 11.0, 11.0, 11.0, 19.0, 11.0, 11.0, 11.0, 11.0, 11.0, 19.0, 11.0, 11.0, 18.0, 11.0, 11.0, 12.0, 11.0, 11.0, 11.0, 19.0, 5.0, 11.0, 11.0, 11.0, 11.0, 11.0, 10.0, 11.0, 6.0, 11.0, 7.0, 10.0, 11.0, 11.0, 11.0, 11.0, 18.0, 15.0, 5.0, 11.0, 11.0, 11.0, 8.0, 15.0, 11.0, 18.0, 11.0, 11.0, 11.0, 11.0, 15.0, 1.0, 8.0, 11.0, 11.0, 11.0, 11.0, 4.0, 10.0, 11.0, 11.0, 18.0, 15.0, 11.0, 11.0, 14.0, 11.0, 11.0, 11.0, 11.0, 8.0, 11.0, 11.0, 11.0, 11.0, 14.0, 15.0, 11.0, 11.0, 18.0, 1.0, 11.0, 11.0, 11.0, 11.0, 11.0, 11.0, 11.0, 11.0, 11.0, 11.0, 11.0, 11.0, 1.0, 19.0, 11.0, 11.0, 11.0, 11.0, 15.0, 11.0, 11.0, 11.0, 15.0, 11.0, 15.0, 11.0, 11.0, 11.0, 11.0, 1.0, 12.0, 11.0, 11.0, 11.0, 10.0, 11.0, 11.0, 7.0, 10.0, 11.0, 11.0, 19.0, 11.0, 11.0, 12.0, 11.0, 15.0, 14.0, 11.0, 19.0, 11.0, 11.0, 11.0, 11.0, 19.0, 11.0, 14.0, 11.0, 10.0, 19.0, 13.0, 14.0, 11.0, 11.0, 11.0, 11.0, 11.0, 10.0, 11.0, 7.0, 15.0, 0.0, 11.0, 18.0, 11.0, 11.0, 11.0, 11.0, 17.0, 7.0, 11.0, 11.0, 11.0, 11.0, 11.0, 11.0]\n"
          ],
          "name": "stdout"
        }
      ]
    },
    {
      "cell_type": "code",
      "metadata": {
        "id": "zeIEFT61y68s"
      },
      "source": [
        "wake_word_index = all_targets.index(wake_word)\n",
        "y_train = np.equal(y_train, wake_word_index).astype('float64')\n",
        "y_val = np.equal(y_val, wake_word_index).astype('float64')\n",
        "y_test = np.equal(y_test, wake_word_index).astype('float64')"
      ],
      "execution_count": null,
      "outputs": []
    },
    {
      "cell_type": "code",
      "metadata": {
        "id": "lhuFMLZRy8Xe",
        "outputId": "ff149ca5-3af7-4f87-995d-4038976cc27c",
        "colab": {
          "base_uri": "https://localhost:8080/",
          "height": 442
        }
      },
      "source": [
        "print(y_val)\n",
        "print(sum(y_val) / len(y_val))\n",
        "print(1 - sum(y_val) / len(y_val))"
      ],
      "execution_count": null,
      "outputs": [
        {
          "output_type": "stream",
          "text": [
            "[0. 0. 0. 0. 0. 0. 0. 0. 0. 0. 0. 0. 0. 0. 0. 0. 0. 0. 1. 0. 0. 0. 0. 0.\n",
            " 0. 0. 0. 0. 0. 0. 0. 0. 0. 0. 0. 0. 0. 0. 0. 0. 0. 0. 0. 1. 0. 0. 0. 0.\n",
            " 0. 0. 0. 0. 0. 0. 0. 0. 0. 0. 0. 0. 0. 0. 0. 0. 0. 0. 0. 0. 0. 0. 0. 0.\n",
            " 0. 0. 0. 0. 0. 0. 0. 0. 0. 0. 0. 0. 0. 0. 0. 0. 0. 0. 0. 0. 0. 0. 0. 0.\n",
            " 0. 0. 0. 1. 0. 0. 0. 0. 0. 0. 0. 0. 0. 0. 0. 0. 0. 0. 0. 0. 0. 0. 0. 0.\n",
            " 0. 0. 0. 1. 0. 0. 0. 0. 0. 0. 0. 0. 0. 0. 0. 0. 0. 0. 0. 0. 0. 0. 0. 0.\n",
            " 0. 0. 0. 0. 0. 0. 0. 0. 0. 0. 0. 0. 0. 0. 0. 0. 0. 0. 0. 0. 0. 0. 0. 0.\n",
            " 0. 0. 0. 0. 0. 0. 0. 0. 0. 0. 0. 0. 0. 0. 0. 0. 0. 0. 0. 0. 0. 0. 0. 0.\n",
            " 0. 0. 0. 0. 0. 0. 0. 0. 0. 0. 0. 0. 0. 0. 0. 0. 0. 0. 0. 0. 0. 0. 0. 0.\n",
            " 0. 0. 0. 0. 0. 0. 0. 0. 0. 0. 0. 0. 0. 0. 0. 0. 0. 0. 0. 0. 0. 0. 0. 0.\n",
            " 0. 0. 0. 0. 0. 0. 0. 0. 0. 0. 0. 0. 0. 0. 0. 0. 0. 0. 0. 0. 0. 0. 0. 0.\n",
            " 0. 0. 0. 0. 0. 0. 0. 0. 0. 0. 0. 0. 0. 0. 0. 0. 0. 0. 0. 0. 0. 0. 0. 0.\n",
            " 0. 0. 0. 0. 0. 0. 0. 0. 0. 0. 0. 0. 0. 0. 0. 0. 0. 0. 0. 0. 0. 0. 0. 0.\n",
            " 0. 0. 0. 0. 0. 0. 0. 0. 0. 0. 0. 0. 0. 0. 0. 0. 0. 0. 0. 0. 0. 0. 0. 0.\n",
            " 0. 0. 0. 0. 0. 0. 0. 0. 0. 0. 0. 0. 0. 0. 0. 0. 0. 0. 0. 0. 0. 0. 0. 0.\n",
            " 0. 0. 0. 0. 0. 1. 0. 0. 0. 0. 0. 0. 0. 0. 0. 0. 0. 0. 0. 0. 0. 0. 0. 0.\n",
            " 0. 0. 0. 0. 0. 0. 0. 0. 0. 0. 0. 0. 0. 0. 0. 0. 0. 0. 0. 0. 0. 0. 0. 0.\n",
            " 0. 0. 0. 0. 0. 0. 0. 0. 0. 0. 0. 0. 0. 0. 0. 0. 0. 0. 0. 0. 0. 0. 0. 0.\n",
            " 0. 0. 0. 0. 0. 0. 0. 0. 0. 0. 0. 0. 0. 0. 0. 0. 0. 0. 0. 0. 0. 0. 0. 0.\n",
            " 0. 0. 0. 0. 0. 0. 0. 0. 0. 0. 0. 0. 0. 0. 0. 0. 0. 0. 0. 0. 0. 0. 0. 0.\n",
            " 0. 0. 0. 0. 0. 0. 0. 0. 0. 0. 0. 0. 0. 0. 0. 0. 0. 0. 0. 0. 0. 0. 0. 0.\n",
            " 0. 0. 0. 0. 0. 0. 0. 0. 0. 0. 0. 0. 0. 0. 0. 0. 0. 0. 0. 0. 0. 0. 0. 0.\n",
            " 0. 0. 0. 0. 0. 0. 0. 1. 0. 0. 0. 0. 0. 0. 0. 0. 0. 0. 0. 0. 0. 0.]\n",
            "0.01090909090909091\n",
            "0.9890909090909091\n"
          ],
          "name": "stdout"
        }
      ]
    },
    {
      "cell_type": "code",
      "metadata": {
        "id": "TyUiUq3Ay9ku",
        "outputId": "ce6158de-7e19-4816-db6f-20eb85af9ac9",
        "colab": {
          "base_uri": "https://localhost:8080/",
          "height": 34
        }
      },
      "source": [
        "print(x_train.shape)"
      ],
      "execution_count": null,
      "outputs": [
        {
          "output_type": "stream",
          "text": [
            "(4476, 16, 16)\n"
          ],
          "name": "stdout"
        }
      ]
    },
    {
      "cell_type": "code",
      "metadata": {
        "id": "OBFxNlm4y_wt",
        "outputId": "34181dff-f179-45a4-d411-ef54e2863f30",
        "colab": {
          "base_uri": "https://localhost:8080/",
          "height": 68
        }
      },
      "source": [
        "x_train = x_train.reshape(x_train.shape[0], \n",
        "                          x_train.shape[1], \n",
        "                          x_train.shape[2], \n",
        "                          1)\n",
        "x_val = x_val.reshape(x_val.shape[0], \n",
        "                      x_val.shape[1], \n",
        "                      x_val.shape[2], \n",
        "                      1)\n",
        "x_test = x_test.reshape(x_test.shape[0], \n",
        "                        x_test.shape[1], \n",
        "                        x_test.shape[2], \n",
        "                        1)\n",
        "print(x_train.shape)\n",
        "print(x_val.shape)\n",
        "print(x_test.shape)"
      ],
      "execution_count": null,
      "outputs": [
        {
          "output_type": "stream",
          "text": [
            "(4476, 16, 16, 1)\n",
            "(550, 16, 16, 1)\n",
            "(561, 16, 16, 1)\n"
          ],
          "name": "stdout"
        }
      ]
    },
    {
      "cell_type": "code",
      "metadata": {
        "id": "gEJA2k4izEBV",
        "outputId": "b3072b82-c9db-428d-fc04-b72e0965e9dc",
        "colab": {
          "base_uri": "https://localhost:8080/",
          "height": 34
        }
      },
      "source": [
        "sample_shape = x_test.shape[1:]\n",
        "print(sample_shape)"
      ],
      "execution_count": null,
      "outputs": [
        {
          "output_type": "stream",
          "text": [
            "(16, 16, 1)\n"
          ],
          "name": "stdout"
        }
      ]
    },
    {
      "cell_type": "code",
      "metadata": {
        "id": "ZUu0kv8AzGA2"
      },
      "source": [
        "model = models.Sequential()\n",
        "model.add(layers.Conv2D(32, \n",
        "                        (2, 2), \n",
        "                        activation='relu',\n",
        "                        input_shape=sample_shape))\n",
        "model.add(layers.MaxPooling2D(pool_size=(2, 2)))\n",
        "\n",
        "model.add(layers.Conv2D(32, (2, 2), activation='relu'))\n",
        "model.add(layers.MaxPooling2D(pool_size=(2, 2)))\n",
        "\n",
        "model.add(layers.Conv2D(64, (2, 2), activation='relu'))\n",
        "model.add(layers.MaxPooling2D(pool_size=(2, 2)))\n",
        "\n",
        "# Classifier\n",
        "model.add(layers.Flatten())\n",
        "model.add(layers.Dense(64, activation='relu'))\n",
        "model.add(layers.Dropout(0.5))\n",
        "model.add(layers.Dense(1, activation='sigmoid'))"
      ],
      "execution_count": null,
      "outputs": []
    },
    {
      "cell_type": "code",
      "metadata": {
        "id": "KMyEKgpGzIF1",
        "outputId": "cf53d049-75ec-4a4d-90a9-548004e638b9",
        "colab": {
          "base_uri": "https://localhost:8080/",
          "height": 493
        }
      },
      "source": [
        "model.summary()"
      ],
      "execution_count": null,
      "outputs": [
        {
          "output_type": "stream",
          "text": [
            "Model: \"sequential\"\n",
            "_________________________________________________________________\n",
            "Layer (type)                 Output Shape              Param #   \n",
            "=================================================================\n",
            "conv2d (Conv2D)              (None, 15, 15, 32)        160       \n",
            "_________________________________________________________________\n",
            "max_pooling2d (MaxPooling2D) (None, 7, 7, 32)          0         \n",
            "_________________________________________________________________\n",
            "conv2d_1 (Conv2D)            (None, 6, 6, 32)          4128      \n",
            "_________________________________________________________________\n",
            "max_pooling2d_1 (MaxPooling2 (None, 3, 3, 32)          0         \n",
            "_________________________________________________________________\n",
            "conv2d_2 (Conv2D)            (None, 2, 2, 64)          8256      \n",
            "_________________________________________________________________\n",
            "max_pooling2d_2 (MaxPooling2 (None, 1, 1, 64)          0         \n",
            "_________________________________________________________________\n",
            "flatten (Flatten)            (None, 64)                0         \n",
            "_________________________________________________________________\n",
            "dense (Dense)                (None, 64)                4160      \n",
            "_________________________________________________________________\n",
            "dropout (Dropout)            (None, 64)                0         \n",
            "_________________________________________________________________\n",
            "dense_1 (Dense)              (None, 1)                 65        \n",
            "=================================================================\n",
            "Total params: 16,769\n",
            "Trainable params: 16,769\n",
            "Non-trainable params: 0\n",
            "_________________________________________________________________\n"
          ],
          "name": "stdout"
        }
      ]
    },
    {
      "cell_type": "code",
      "metadata": {
        "id": "ZH8CzFPjzKDt"
      },
      "source": [
        "model.compile( loss = \"binary_crossentropy\", \n",
        "               optimizer = 'rmsprop', \n",
        "               metrics=['acc']\n",
        "             )"
      ],
      "execution_count": null,
      "outputs": []
    },
    {
      "cell_type": "code",
      "metadata": {
        "id": "s9nccnIvzzmm",
        "outputId": "9321e51c-5fd7-4a39-b847-39cf05e7af01",
        "colab": {
          "base_uri": "https://localhost:8080/",
          "height": 1000
        }
      },
      "source": [
        "history = model.fit(x_train, \n",
        "                    y_train, \n",
        "                    epochs=30, \n",
        "                    batch_size=3, \n",
        "                    validation_data=(x_val, y_val))"
      ],
      "execution_count": null,
      "outputs": [
        {
          "output_type": "stream",
          "text": [
            "Epoch 1/30\n",
            "1492/1492 [==============================] - 7s 4ms/step - loss: 0.1009 - acc: 0.9915 - val_loss: 0.0551 - val_acc: 0.9873\n",
            "Epoch 2/30\n",
            "1492/1492 [==============================] - 7s 5ms/step - loss: 0.0974 - acc: 0.9924 - val_loss: 0.2289 - val_acc: 0.9891\n",
            "Epoch 3/30\n",
            "1492/1492 [==============================] - 7s 5ms/step - loss: 0.0776 - acc: 0.9931 - val_loss: 0.1635 - val_acc: 0.9891\n",
            "Epoch 4/30\n",
            "1492/1492 [==============================] - 7s 5ms/step - loss: 0.1041 - acc: 0.9926 - val_loss: 0.4398 - val_acc: 0.9891\n",
            "Epoch 5/30\n",
            "1492/1492 [==============================] - 7s 4ms/step - loss: 0.1471 - acc: 0.9929 - val_loss: 0.4603 - val_acc: 0.9891\n",
            "Epoch 6/30\n",
            "1492/1492 [==============================] - 7s 5ms/step - loss: 0.1341 - acc: 0.9929 - val_loss: 0.0757 - val_acc: 0.9891\n",
            "Epoch 7/30\n",
            "1492/1492 [==============================] - 7s 5ms/step - loss: 0.1045 - acc: 0.9929 - val_loss: 0.0898 - val_acc: 0.9891\n",
            "Epoch 8/30\n",
            "1492/1492 [==============================] - 7s 5ms/step - loss: 0.1254 - acc: 0.9929 - val_loss: 0.1805 - val_acc: 0.9891\n",
            "Epoch 9/30\n",
            "1492/1492 [==============================] - 7s 4ms/step - loss: 0.2821 - acc: 0.9929 - val_loss: 0.0650 - val_acc: 0.9891\n",
            "Epoch 10/30\n",
            "1492/1492 [==============================] - 7s 4ms/step - loss: 0.1814 - acc: 0.9929 - val_loss: 0.1073 - val_acc: 0.9891\n",
            "Epoch 11/30\n",
            "1492/1492 [==============================] - 7s 5ms/step - loss: 0.2506 - acc: 0.9929 - val_loss: 0.4436 - val_acc: 0.9891\n",
            "Epoch 12/30\n",
            "1492/1492 [==============================] - 7s 5ms/step - loss: 0.2258 - acc: 0.9929 - val_loss: 0.2636 - val_acc: 0.9891\n",
            "Epoch 13/30\n",
            "1492/1492 [==============================] - 7s 4ms/step - loss: 0.3564 - acc: 0.9929 - val_loss: 0.1351 - val_acc: 0.9891\n",
            "Epoch 14/30\n",
            "1492/1492 [==============================] - 7s 5ms/step - loss: 0.1797 - acc: 0.9929 - val_loss: 0.1774 - val_acc: 0.9891\n",
            "Epoch 15/30\n",
            "1492/1492 [==============================] - 7s 5ms/step - loss: 0.2727 - acc: 0.9929 - val_loss: 0.5060 - val_acc: 0.9891\n",
            "Epoch 16/30\n",
            "1492/1492 [==============================] - 7s 4ms/step - loss: 0.1721 - acc: 0.9929 - val_loss: 0.2628 - val_acc: 0.9891\n",
            "Epoch 17/30\n",
            "1492/1492 [==============================] - 7s 5ms/step - loss: 0.2746 - acc: 0.9929 - val_loss: 0.1134 - val_acc: 0.9891\n",
            "Epoch 18/30\n",
            "1492/1492 [==============================] - 7s 4ms/step - loss: 0.8507 - acc: 0.9929 - val_loss: 0.2016 - val_acc: 0.9891\n",
            "Epoch 19/30\n",
            "1492/1492 [==============================] - 7s 4ms/step - loss: 0.3456 - acc: 0.9929 - val_loss: 0.2291 - val_acc: 0.9891\n",
            "Epoch 20/30\n",
            "1492/1492 [==============================] - 7s 4ms/step - loss: 0.5193 - acc: 0.9929 - val_loss: 0.2861 - val_acc: 0.9891\n",
            "Epoch 21/30\n",
            "1492/1492 [==============================] - 7s 5ms/step - loss: 0.3055 - acc: 0.9929 - val_loss: 0.1616 - val_acc: 0.9891\n",
            "Epoch 22/30\n",
            "1492/1492 [==============================] - 7s 4ms/step - loss: 0.3813 - acc: 0.9929 - val_loss: 0.3345 - val_acc: 0.9891\n",
            "Epoch 23/30\n",
            "1492/1492 [==============================] - 7s 5ms/step - loss: 0.2392 - acc: 0.9929 - val_loss: 0.2706 - val_acc: 0.9891\n",
            "Epoch 24/30\n",
            "1492/1492 [==============================] - 7s 4ms/step - loss: 1.3032 - acc: 0.9929 - val_loss: 0.1980 - val_acc: 0.9891\n",
            "Epoch 25/30\n",
            "1492/1492 [==============================] - 7s 4ms/step - loss: 0.3142 - acc: 0.9929 - val_loss: 0.2236 - val_acc: 0.9891\n",
            "Epoch 26/30\n",
            "1492/1492 [==============================] - 7s 4ms/step - loss: 0.1467 - acc: 0.9929 - val_loss: 0.4139 - val_acc: 0.9891\n",
            "Epoch 27/30\n",
            "1492/1492 [==============================] - 7s 4ms/step - loss: 0.3436 - acc: 0.9929 - val_loss: 0.3897 - val_acc: 0.9891\n",
            "Epoch 28/30\n",
            "1492/1492 [==============================] - 7s 4ms/step - loss: 0.6690 - acc: 0.9929 - val_loss: 0.5896 - val_acc: 0.9891\n",
            "Epoch 29/30\n",
            "1492/1492 [==============================] - 7s 4ms/step - loss: 0.2113 - acc: 0.9929 - val_loss: 0.3379 - val_acc: 0.9891\n",
            "Epoch 30/30\n",
            "1492/1492 [==============================] - 7s 5ms/step - loss: 0.5208 - acc: 0.9929 - val_loss: 0.4524 - val_acc: 0.9891\n"
          ],
          "name": "stdout"
        }
      ]
    },
    {
      "cell_type": "code",
      "metadata": {
        "id": "RxJwF_m90XT0",
        "outputId": "0bd0712c-0a58-4eaa-d55e-f4863c093fbf",
        "colab": {
          "base_uri": "https://localhost:8080/",
          "height": 545
        }
      },
      "source": [
        "acc = history.history['acc']\n",
        "val_acc = history.history['val_acc']\n",
        "loss = history.history['loss']\n",
        "val_loss = history.history['val_loss']\n",
        "\n",
        "epochs = range(1, len(acc) + 1)\n",
        "\n",
        "plt.plot(epochs, acc, 'bo', label = 'Training acc')\n",
        "plt.plot(epochs, val_acc, 'b', label = 'Validation acc')\n",
        "plt.title('Training and validation accuracy')\n",
        "plt.legend()\n",
        "\n",
        "plt.figure()\n",
        "\n",
        "plt.plot(epochs, loss, 'bo', label='Training loss')\n",
        "plt.plot(epochs, val_loss, 'b', label='Validation loss')\n",
        "plt.title('Training and validation loss')\n",
        "plt.legend()\n",
        "\n",
        "plt.show()"
      ],
      "execution_count": null,
      "outputs": [
        {
          "output_type": "display_data",
          "data": {
            "image/png": "[encoded data removed]",
            "text/plain": [
              "<Figure size 432x288 with 1 Axes>"
            ]
          },
          "metadata": {
            "tags": [],
            "needs_background": "light"
          }
        },
        {
          "output_type": "display_data",
          "data": {
            "image/png": "[encoded data removed]",
            "text/plain": [
              "<Figure size 432x288 with 1 Axes>"
            ]
          },
          "metadata": {
            "tags": [],
            "needs_background": "light"
          }
        }
      ]
    },
    {
      "cell_type": "code",
      "metadata": {
        "id": "BNwatwHu2Bu-"
      },
      "source": [
        "models.save_model(model, filepath=model_filename, save_format='.h5')"
      ],
      "execution_count": null,
      "outputs": []
    },
    {
      "cell_type": "code",
      "metadata": {
        "id": "1VAnEcfp2DSc",
        "outputId": "bdf476d7-2591-40ef-823c-d61fb4c1659b",
        "colab": {
          "base_uri": "https://localhost:8080/",
          "height": 102
        }
      },
      "source": [
        "i = 0;\n",
        "for idx, y in enumerate(y_test):\n",
        "    if y == 1:\n",
        "        print(idx)\n",
        "        i += 1\n",
        "print(i)"
      ],
      "execution_count": null,
      "outputs": [
        {
          "output_type": "stream",
          "text": [
            "5\n",
            "139\n",
            "434\n",
            "525\n",
            "4\n"
          ],
          "name": "stdout"
        }
      ]
    },
    {
      "cell_type": "code",
      "metadata": {
        "id": "k0mPG0EG2GRb",
        "outputId": "a34e8de1-0ced-4abc-953d-ada22b6881a0",
        "colab": {
          "base_uri": "https://localhost:8080/",
          "height": 197
        }
      },
      "source": [
        "model = models.load_model(model_filename)\n",
        "for i in range(1, 10):\n",
        "    print('Answer:', y_test[i], ' Prediction:', model.predict(np.expand_dims(x_test[i], 0)))"
      ],
      "execution_count": null,
      "outputs": [
        {
          "output_type": "error",
          "ename": "NameError",
          "evalue": "ignored",
          "traceback": [
            "\u001b[0;31m---------------------------------------------------------------------------\u001b[0m",
            "\u001b[0;31mNameError\u001b[0m                                 Traceback (most recent call last)",
            "\u001b[0;32m<ipython-input-1-df759c434218>\u001b[0m in \u001b[0;36m<module>\u001b[0;34m()\u001b[0m\n\u001b[0;32m----> 1\u001b[0;31m \u001b[0mmodel\u001b[0m \u001b[0;34m=\u001b[0m \u001b[0mmodels\u001b[0m\u001b[0;34m.\u001b[0m\u001b[0mload_model\u001b[0m\u001b[0;34m(\u001b[0m\u001b[0mmodel_filename\u001b[0m\u001b[0;34m)\u001b[0m\u001b[0;34m\u001b[0m\u001b[0;34m\u001b[0m\u001b[0m\n\u001b[0m\u001b[1;32m      2\u001b[0m \u001b[0;32mfor\u001b[0m \u001b[0mi\u001b[0m \u001b[0;32min\u001b[0m \u001b[0mrange\u001b[0m\u001b[0;34m(\u001b[0m\u001b[0;36m1\u001b[0m\u001b[0;34m,\u001b[0m \u001b[0;36m10\u001b[0m\u001b[0;34m)\u001b[0m\u001b[0;34m:\u001b[0m\u001b[0;34m\u001b[0m\u001b[0;34m\u001b[0m\u001b[0m\n\u001b[1;32m      3\u001b[0m     \u001b[0mprint\u001b[0m\u001b[0;34m(\u001b[0m\u001b[0;34m'Answer:'\u001b[0m\u001b[0;34m,\u001b[0m \u001b[0my_test\u001b[0m\u001b[0;34m[\u001b[0m\u001b[0mi\u001b[0m\u001b[0;34m]\u001b[0m\u001b[0;34m,\u001b[0m \u001b[0;34m' Prediction:'\u001b[0m\u001b[0;34m,\u001b[0m \u001b[0mmodel\u001b[0m\u001b[0;34m.\u001b[0m\u001b[0mpredict\u001b[0m\u001b[0;34m(\u001b[0m\u001b[0mnp\u001b[0m\u001b[0;34m.\u001b[0m\u001b[0mexpand_dims\u001b[0m\u001b[0;34m(\u001b[0m\u001b[0mx_test\u001b[0m\u001b[0;34m[\u001b[0m\u001b[0mi\u001b[0m\u001b[0;34m]\u001b[0m\u001b[0;34m,\u001b[0m \u001b[0;36m0\u001b[0m\u001b[0;34m)\u001b[0m\u001b[0;34m)\u001b[0m\u001b[0;34m)\u001b[0m\u001b[0;34m\u001b[0m\u001b[0;34m\u001b[0m\u001b[0m\n",
            "\u001b[0;31mNameError\u001b[0m: name 'models' is not defined"
          ]
        }
      ]
    },
    {
      "cell_type": "code",
      "metadata": {
        "id": "trK86Kp22H48"
      },
      "source": [
        "model.evaluate(x = x_test, y = y_test)"
      ],
      "execution_count": null,
      "outputs": []
    },
    {
      "cell_type": "code",
      "metadata": {
        "id": "YMKx-_UxuPdm"
      },
      "source": [
        "my_test = (cv2.imread(word_filename))*(1/255)\n",
        "my_test = my_test.reshape(3, \n",
        "                          my_test.shape[0], \n",
        "                          my_test.shape[1], \n",
        "                          1)\n",
        "print(my_test[0])\n",
        "print(my_test.shape)\n",
        "print('Answer: 1  Prediction:', model.predict(np.expand_dims(my_test[0], 0)))"
      ],
      "execution_count": null,
      "outputs": []
    },
    {
      "cell_type": "code",
      "metadata": {
        "id": "-rlwjCSroxRC"
      },
      "source": [
        "print('Answer: 1  Prediction:', model.predict(np.expand_dims(x_test[42], 0)))"
      ],
      "execution_count": null,
      "outputs": []
    },
    {
      "cell_type": "code",
      "metadata": {
        "id": "aXZyMdCNf0VD"
      },
      "source": [
        "import os\n",
        "from os import path\n",
        "for root, dirs, files in os.walk('/content/gdrive'):\n",
        "    for name in files:\n",
        "        if name == model_filename:\n",
        "            print (path.abspath(os.path.join(root, name)))"
      ],
      "execution_count": null,
      "outputs": []
    },
    {
      "cell_type": "code",
      "metadata": {
        "id": "1IPHTO7X-HwM"
      },
      "source": [
        "model_filename = '/content/gdrive/My Drive/TuLeHi/wake_word_stop_model.h5'\n",
        "tflite_filename = '/content/gdrive/My Drive/TuLeHi/wake_word_stop_lite.tflite'"
      ],
      "execution_count": null,
      "outputs": []
    },
    {
      "cell_type": "code",
      "metadata": {
        "id": "r4PcN2KV-MVJ"
      },
      "source": [
        "model = models.load_model(model_filename)\n",
        "converter = lite.TFLiteConverter.from_keras_model(model)\n",
        "tflite_model = converter.convert()\n",
        "open(tflite_filename, 'wb').write(tflite_model)"
      ],
      "execution_count": null,
      "outputs": []
    },
    {
      "cell_type": "code",
      "metadata": {
        "id": "lbE6Glo0_su2"
      },
      "source": [
        "from tensorflow import lite\n",
        "from tensorflow.keras import models\n",
        "import tensorflow as tf\n",
        "import tflearn\n",
        "\n",
        "import speech_data"
      ],
      "execution_count": null,
      "outputs": []
    },
    {
      "cell_type": "code",
      "metadata": {
        "id": "9gNfq1U086nt"
      },
      "source": [
        "learning_rate = 0.0001\n",
        "training_iters = 300000  # steps\n",
        "batch_size = 64\n",
        "\n",
        "width = 20  # mfcc features\n",
        "height = 80  # (max) length of utterance\n",
        "classes = 10  # digits\n",
        "\n",
        "batch = word_batch = speech_data.mfcc_batch_generator(batch_size)"
      ],
      "execution_count": null,
      "outputs": []
    },
    {
      "cell_type": "code",
      "metadata": {
        "id": "Fclh9Pc784Os"
      },
      "source": [
        "net = tflearn.input_data([None, width, height])\n",
        "net = tflearn.lstm(net, 128*4, dropout=0.5)\n",
        "net = tflearn.fully_connected(net, classes, activation='softmax')\n",
        "net = tflearn.regression(net, optimizer='adam', learning_rate=learning_rate, loss='categorical_crossentropy')\n",
        "model = tflearn.DNN(net, tensorboard_verbose=0)"
      ],
      "execution_count": null,
      "outputs": []
    },
    {
      "cell_type": "code",
      "metadata": {
        "id": "b-ZM85F-82Ys"
      },
      "source": [
        "for x in tf.get_collection(tf.GraphKeys.TRAINABLE_VARIABLES): tf.add_to_collection(tf.GraphKeys.VARIABLES, x )"
      ],
      "execution_count": null,
      "outputs": []
    },
    {
      "cell_type": "code",
      "metadata": {
        "id": "ML7NHOfo80sp"
      },
      "source": [
        "while --training_iters > 0:\n",
        "\ttrainX, trainY = next(batch)\n",
        "\ttestX, testY = next(batch)  # todo: proper ;)\n",
        "\tmodel.fit(trainX, trainY, n_epoch=10, validation_set=(testX, testY), show_metric=True, batch_size=batch_size)\n",
        "\n",
        "model.save(\"tflearn.lstm.model\")\n",
        "_y = model.predict(next(batch)[0])  # << add your own voice here\n",
        "print (_y)"
      ],
      "execution_count": null,
      "outputs": []
    }
  ]
}